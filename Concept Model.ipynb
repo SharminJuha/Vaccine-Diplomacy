import os
import glob
import zipfile
from tqdm import tqdm
from sentence_transformers import util

# Download 25k images from Unsplash 
img_folder = 'photos/'
if not os.path.exists(img_folder) or len(os.listdir(img_folder)) == 0:
    os.makedirs(img_folder, exist_ok=True)
    
    photo_filename = 'unsplash-25k-photos.zip'
    if not os.path.exists(photo_filename):   #Download dataset if does not exist
        util.http_get('http://sbert.net/datasets/'+photo_filename, photo_filename)
        
    #Extract all images
    with zipfile.ZipFile(photo_filename, 'r') as zf:
        for member in tqdm(zf.infolist(), desc='Extracting'):
            zf.extract(member, img_folder)

# Load image paths
img_names = list(glob.glob('photos/*.jpg'))

import random
import nltk
nltk.download("wordnet")
from nltk.corpus import wordnet as wn

all_nouns = [word for synset in wn.all_synsets('n') for word in synset.lemma_names() 
             if "_" not in word]
selected_nouns = random.sample(all_nouns, 50_000)


from concept import ConceptModel

concept_model = ConceptModel()
concepts = concept_model.fit_transform(img_names, docs=selected_nouns)


import pickle
from sentence_transformers import util

# Load pre-trained image embeddings
emb_filename = 'unsplash-25k-photos-embeddings.pkl'
if not os.path.exists(emb_filename):   #Download dataset if does not exist
    util.http_get('http://sbert.net/datasets/'+emb_filename, emb_filename)
    
with open(emb_filename, 'rb') as fIn:
    img_names, image_embeddings = pickle.load(fIn) 
img_names = [f"photos/{path}" for path in img_names]

from concept import ConceptModel

# Train Concept using the pre-trained image embeddings
concept_model = ConceptModel()
concepts = concept_model.fit_transform(img_names, 
                                       image_embeddings=image_embeddings, 
                                       docs=selected_nouns)

fig = concept_model.visualize_concepts()

>>> search_results = concept_model.find_concepts("beach")

fig = concept_model.visualize_concepts(concepts=[concept for concept, _ in search_results])
